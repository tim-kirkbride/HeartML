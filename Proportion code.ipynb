{
 "cells": [
  {
   "cell_type": "code",
   "execution_count": null,
   "metadata": {},
   "outputs": [],
   "source": [
    "p_counts = bank['poutcome'].value_counts()\n",
    "\n",
    "mask_non=bank['poutcome']==\"nonexistent\"\n",
    "mask_fail=bank['poutcome']==\"failure\"\n",
    "mask_suc=bank['poutcome']==\"success\"\n",
    "\n",
    "non_y=bank.loc[mask_non,\"y\"].value_counts()\n",
    "fail_y=bank.loc[mask_fail,\"y\"].value_counts()\n",
    "suc_y=bank.loc[mask_suc,\"y\"].value_counts()\n",
    "\n",
    "rate = [non_y[1]/float(p_counts['nonexistent']),fail_y[1]/float(p_counts['failure']),suc_y[1]/float(p_counts['success'])]\n",
    "\n",
    "plt.bar(range(3),rate,align='center')\n",
    "plt.xticks(range(3), ['Nonexistent','Failure','Success'])\n",
    "plt.xlabel('Outcome of Preivous Campaign')\n",
    "plt.ylabel('Proportion within Outcome Subscribed')\n",
    "plt.title('Proportions within Previous Campaign Outcomes who Subscribed to Term Deposit')"
   ]
  },
  {
   "cell_type": "code",
   "execution_count": null,
   "metadata": {},
   "outputs": [],
   "source": [
    "feature_counts = data['feature'].value_counts()\n",
    "\n",
    "mask_level1=data['feature']==\"label1\"\n",
    "mask_level2=data['feature']==\"label2\"\n",
    "mask_level3=data['feature']==\"label3\"\n",
    "\n",
    "level1_y=data.loc[mask_level1,\"y\"].value_counts()\n",
    "level2_y=data.loc[mask_level2,\"y\"].value_counts()\n",
    "level3_y=data.loc[mask_level3,\"y\"].value_counts()\n",
    "\n",
    "rate = [level1_y[1]/float(feature_counts['label1']),level2_y[1]/float(feature_counts['label2']),level3_y[1]/float(feature_counts['label3'])]\n",
    "\n",
    "plt.bar(range(3),rate,align='center')\n",
    "plt.xticks(range(3), ['Level1','Level2','Level3'])\n",
    "plt.xlabel('')\n",
    "plt.ylabel('')\n",
    "plt.title('')"
   ]
  }
 ],
 "metadata": {
  "kernelspec": {
   "display_name": "Python 2",
   "language": "python",
   "name": "python2"
  },
  "language_info": {
   "codemirror_mode": {
    "name": "ipython",
    "version": 2
   },
   "file_extension": ".py",
   "mimetype": "text/x-python",
   "name": "python",
   "nbconvert_exporter": "python",
   "pygments_lexer": "ipython2",
   "version": "2.7.14"
  }
 },
 "nbformat": 4,
 "nbformat_minor": 2
}
