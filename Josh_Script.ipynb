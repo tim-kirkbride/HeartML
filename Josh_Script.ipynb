{
 "cells": [
  {
   "cell_type": "code",
   "execution_count": 1,
   "metadata": {},
   "outputs": [],
   "source": [
    "import pandas as pds"
   ]
  },
  {
   "cell_type": "code",
   "execution_count": 3,
   "metadata": {
    "scrolled": false
   },
   "outputs": [
    {
     "data": {
      "text/html": [
       "<div>\n",
       "<style scoped>\n",
       "    .dataframe tbody tr th:only-of-type {\n",
       "        vertical-align: middle;\n",
       "    }\n",
       "\n",
       "    .dataframe tbody tr th {\n",
       "        vertical-align: top;\n",
       "    }\n",
       "\n",
       "    .dataframe thead th {\n",
       "        text-align: right;\n",
       "    }\n",
       "</style>\n",
       "<table border=\"1\" class=\"dataframe\">\n",
       "  <thead>\n",
       "    <tr style=\"text-align: right;\">\n",
       "      <th></th>\n",
       "      <th>age</th>\n",
       "      <th>sex</th>\n",
       "      <th>chest_pain</th>\n",
       "      <th>resting_bp</th>\n",
       "      <th>cholesterol</th>\n",
       "      <th>high_blood_sugar</th>\n",
       "      <th>resting_ecg</th>\n",
       "      <th>max_heart_rate</th>\n",
       "      <th>angina</th>\n",
       "      <th>oldpeak</th>\n",
       "      <th>ST_slope</th>\n",
       "      <th>major_vessels</th>\n",
       "      <th>thalassemia</th>\n",
       "      <th>heart_disease</th>\n",
       "    </tr>\n",
       "  </thead>\n",
       "  <tbody>\n",
       "    <tr>\n",
       "      <th>0</th>\n",
       "      <td>70.0</td>\n",
       "      <td>Male</td>\n",
       "      <td>Asymptomatic</td>\n",
       "      <td>130.0</td>\n",
       "      <td>322.0</td>\n",
       "      <td>False</td>\n",
       "      <td>LV_Growth</td>\n",
       "      <td>109.0</td>\n",
       "      <td>False</td>\n",
       "      <td>2.4</td>\n",
       "      <td>Flat</td>\n",
       "      <td>3.0</td>\n",
       "      <td>Fixed_Defect</td>\n",
       "      <td>Present</td>\n",
       "    </tr>\n",
       "    <tr>\n",
       "      <th>1</th>\n",
       "      <td>67.0</td>\n",
       "      <td>Female</td>\n",
       "      <td>Non_Anginal</td>\n",
       "      <td>115.0</td>\n",
       "      <td>564.0</td>\n",
       "      <td>False</td>\n",
       "      <td>LV_Growth</td>\n",
       "      <td>160.0</td>\n",
       "      <td>False</td>\n",
       "      <td>1.6</td>\n",
       "      <td>Flat</td>\n",
       "      <td>0.0</td>\n",
       "      <td>Reversable_Defect</td>\n",
       "      <td>Absent</td>\n",
       "    </tr>\n",
       "    <tr>\n",
       "      <th>2</th>\n",
       "      <td>57.0</td>\n",
       "      <td>Male</td>\n",
       "      <td>Atypical</td>\n",
       "      <td>124.0</td>\n",
       "      <td>261.0</td>\n",
       "      <td>False</td>\n",
       "      <td>Normal</td>\n",
       "      <td>141.0</td>\n",
       "      <td>False</td>\n",
       "      <td>0.3</td>\n",
       "      <td>Downsloping</td>\n",
       "      <td>0.0</td>\n",
       "      <td>Reversable_Defect</td>\n",
       "      <td>Present</td>\n",
       "    </tr>\n",
       "    <tr>\n",
       "      <th>3</th>\n",
       "      <td>64.0</td>\n",
       "      <td>Male</td>\n",
       "      <td>Asymptomatic</td>\n",
       "      <td>128.0</td>\n",
       "      <td>263.0</td>\n",
       "      <td>False</td>\n",
       "      <td>Normal</td>\n",
       "      <td>105.0</td>\n",
       "      <td>True</td>\n",
       "      <td>0.2</td>\n",
       "      <td>Flat</td>\n",
       "      <td>1.0</td>\n",
       "      <td>Reversable_Defect</td>\n",
       "      <td>Absent</td>\n",
       "    </tr>\n",
       "    <tr>\n",
       "      <th>4</th>\n",
       "      <td>74.0</td>\n",
       "      <td>Female</td>\n",
       "      <td>Atypical</td>\n",
       "      <td>120.0</td>\n",
       "      <td>269.0</td>\n",
       "      <td>False</td>\n",
       "      <td>LV_Growth</td>\n",
       "      <td>121.0</td>\n",
       "      <td>True</td>\n",
       "      <td>0.2</td>\n",
       "      <td>Downsloping</td>\n",
       "      <td>1.0</td>\n",
       "      <td>Fixed_Defect</td>\n",
       "      <td>Absent</td>\n",
       "    </tr>\n",
       "  </tbody>\n",
       "</table>\n",
       "</div>"
      ],
      "text/plain": [
       "    age     sex    chest_pain  resting_bp  cholesterol  high_blood_sugar  \\\n",
       "0  70.0    Male  Asymptomatic       130.0        322.0             False   \n",
       "1  67.0  Female   Non_Anginal       115.0        564.0             False   \n",
       "2  57.0    Male      Atypical       124.0        261.0             False   \n",
       "3  64.0    Male  Asymptomatic       128.0        263.0             False   \n",
       "4  74.0  Female      Atypical       120.0        269.0             False   \n",
       "\n",
       "  resting_ecg  max_heart_rate  angina  oldpeak     ST_slope  major_vessels  \\\n",
       "0   LV_Growth           109.0   False      2.4         Flat            3.0   \n",
       "1   LV_Growth           160.0   False      1.6         Flat            0.0   \n",
       "2      Normal           141.0   False      0.3  Downsloping            0.0   \n",
       "3      Normal           105.0    True      0.2         Flat            1.0   \n",
       "4   LV_Growth           121.0    True      0.2  Downsloping            1.0   \n",
       "\n",
       "         thalassemia heart_disease  \n",
       "0       Fixed_Defect       Present  \n",
       "1  Reversable_Defect        Absent  \n",
       "2  Reversable_Defect       Present  \n",
       "3  Reversable_Defect        Absent  \n",
       "4       Fixed_Defect        Absent  "
      ]
     },
     "execution_count": 3,
     "metadata": {},
     "output_type": "execute_result"
    }
   ],
   "source": [
    "heart = pds.read_table(\"heart_data.csv\", sep = \",\")\n",
    "#heart=heart.drop(columns=['Unnamed: 0'])\n",
    "heart.head()"
   ]
  },
  {
   "cell_type": "code",
   "execution_count": 5,
   "metadata": {},
   "outputs": [
    {
     "data": {
      "text/plain": [
       "(270, 14)"
      ]
     },
     "execution_count": 5,
     "metadata": {},
     "output_type": "execute_result"
    }
   ],
   "source": [
    "heart.shape"
   ]
  },
  {
   "cell_type": "code",
   "execution_count": 43,
   "metadata": {},
   "outputs": [],
   "source": [
    "from sklearn.model_selection import train_test_split\n",
    "from sklearn.neighbors import KNeighborsClassifier\n",
    "from sklearn.tree import DecisionTreeClassifier\n",
    "from sklearn.metrics import classification_report\n",
    "from sklearn import tree\n",
    "from sklearn.metrics import confusion_matrix\n",
    "from sklearn.model_selection import KFold\n",
    "import pylab as plt\n",
    "import math"
   ]
  },
  {
   "cell_type": "code",
   "execution_count": 7,
   "metadata": {},
   "outputs": [],
   "source": [
    "col_names = ['age', \n",
    "             'sex', \n",
    "             'chest_pain', \n",
    "             'resting_bp', \n",
    "             'cholesterol', \n",
    "             'high_blood_sugar', \n",
    "             'resting_ecg', \n",
    "             'max_heart_rate', \n",
    "             'angina', \n",
    "             'oldpeak', \n",
    "             'ST_slope', \n",
    "             'major_vessels', \n",
    "             'thalassemia', \n",
    "             'heart_disease']\n",
    "raw_heart = pds.read_table(\"heart.dat\", sep = \" \", header = None, names = col_names)"
   ]
  },
  {
   "cell_type": "code",
   "execution_count": 8,
   "metadata": {
    "scrolled": true
   },
   "outputs": [
    {
     "data": {
      "text/html": [
       "<div>\n",
       "<style scoped>\n",
       "    .dataframe tbody tr th:only-of-type {\n",
       "        vertical-align: middle;\n",
       "    }\n",
       "\n",
       "    .dataframe tbody tr th {\n",
       "        vertical-align: top;\n",
       "    }\n",
       "\n",
       "    .dataframe thead th {\n",
       "        text-align: right;\n",
       "    }\n",
       "</style>\n",
       "<table border=\"1\" class=\"dataframe\">\n",
       "  <thead>\n",
       "    <tr style=\"text-align: right;\">\n",
       "      <th></th>\n",
       "      <th>age</th>\n",
       "      <th>sex</th>\n",
       "      <th>chest_pain</th>\n",
       "      <th>resting_bp</th>\n",
       "      <th>cholesterol</th>\n",
       "      <th>high_blood_sugar</th>\n",
       "      <th>resting_ecg</th>\n",
       "      <th>max_heart_rate</th>\n",
       "      <th>angina</th>\n",
       "      <th>oldpeak</th>\n",
       "      <th>ST_slope</th>\n",
       "      <th>major_vessels</th>\n",
       "      <th>thalassemia</th>\n",
       "      <th>heart_disease</th>\n",
       "    </tr>\n",
       "  </thead>\n",
       "  <tbody>\n",
       "    <tr>\n",
       "      <th>0</th>\n",
       "      <td>70.0</td>\n",
       "      <td>1.0</td>\n",
       "      <td>4.0</td>\n",
       "      <td>130.0</td>\n",
       "      <td>322.0</td>\n",
       "      <td>0.0</td>\n",
       "      <td>2.0</td>\n",
       "      <td>109.0</td>\n",
       "      <td>0.0</td>\n",
       "      <td>2.4</td>\n",
       "      <td>2.0</td>\n",
       "      <td>3.0</td>\n",
       "      <td>3.0</td>\n",
       "      <td>2</td>\n",
       "    </tr>\n",
       "    <tr>\n",
       "      <th>1</th>\n",
       "      <td>67.0</td>\n",
       "      <td>0.0</td>\n",
       "      <td>3.0</td>\n",
       "      <td>115.0</td>\n",
       "      <td>564.0</td>\n",
       "      <td>0.0</td>\n",
       "      <td>2.0</td>\n",
       "      <td>160.0</td>\n",
       "      <td>0.0</td>\n",
       "      <td>1.6</td>\n",
       "      <td>2.0</td>\n",
       "      <td>0.0</td>\n",
       "      <td>7.0</td>\n",
       "      <td>1</td>\n",
       "    </tr>\n",
       "    <tr>\n",
       "      <th>2</th>\n",
       "      <td>57.0</td>\n",
       "      <td>1.0</td>\n",
       "      <td>2.0</td>\n",
       "      <td>124.0</td>\n",
       "      <td>261.0</td>\n",
       "      <td>0.0</td>\n",
       "      <td>0.0</td>\n",
       "      <td>141.0</td>\n",
       "      <td>0.0</td>\n",
       "      <td>0.3</td>\n",
       "      <td>1.0</td>\n",
       "      <td>0.0</td>\n",
       "      <td>7.0</td>\n",
       "      <td>2</td>\n",
       "    </tr>\n",
       "    <tr>\n",
       "      <th>3</th>\n",
       "      <td>64.0</td>\n",
       "      <td>1.0</td>\n",
       "      <td>4.0</td>\n",
       "      <td>128.0</td>\n",
       "      <td>263.0</td>\n",
       "      <td>0.0</td>\n",
       "      <td>0.0</td>\n",
       "      <td>105.0</td>\n",
       "      <td>1.0</td>\n",
       "      <td>0.2</td>\n",
       "      <td>2.0</td>\n",
       "      <td>1.0</td>\n",
       "      <td>7.0</td>\n",
       "      <td>1</td>\n",
       "    </tr>\n",
       "    <tr>\n",
       "      <th>4</th>\n",
       "      <td>74.0</td>\n",
       "      <td>0.0</td>\n",
       "      <td>2.0</td>\n",
       "      <td>120.0</td>\n",
       "      <td>269.0</td>\n",
       "      <td>0.0</td>\n",
       "      <td>2.0</td>\n",
       "      <td>121.0</td>\n",
       "      <td>1.0</td>\n",
       "      <td>0.2</td>\n",
       "      <td>1.0</td>\n",
       "      <td>1.0</td>\n",
       "      <td>3.0</td>\n",
       "      <td>1</td>\n",
       "    </tr>\n",
       "  </tbody>\n",
       "</table>\n",
       "</div>"
      ],
      "text/plain": [
       "    age  sex  chest_pain  resting_bp  cholesterol  high_blood_sugar  \\\n",
       "0  70.0  1.0         4.0       130.0        322.0               0.0   \n",
       "1  67.0  0.0         3.0       115.0        564.0               0.0   \n",
       "2  57.0  1.0         2.0       124.0        261.0               0.0   \n",
       "3  64.0  1.0         4.0       128.0        263.0               0.0   \n",
       "4  74.0  0.0         2.0       120.0        269.0               0.0   \n",
       "\n",
       "   resting_ecg  max_heart_rate  angina  oldpeak  ST_slope  major_vessels  \\\n",
       "0          2.0           109.0     0.0      2.4       2.0            3.0   \n",
       "1          2.0           160.0     0.0      1.6       2.0            0.0   \n",
       "2          0.0           141.0     0.0      0.3       1.0            0.0   \n",
       "3          0.0           105.0     1.0      0.2       2.0            1.0   \n",
       "4          2.0           121.0     1.0      0.2       1.0            1.0   \n",
       "\n",
       "   thalassemia  heart_disease  \n",
       "0          3.0              2  \n",
       "1          7.0              1  \n",
       "2          7.0              2  \n",
       "3          7.0              1  \n",
       "4          3.0              1  "
      ]
     },
     "execution_count": 8,
     "metadata": {},
     "output_type": "execute_result"
    }
   ],
   "source": [
    "raw_heart.head()"
   ]
  },
  {
   "cell_type": "code",
   "execution_count": 9,
   "metadata": {
    "scrolled": true
   },
   "outputs": [],
   "source": [
    "raw_heart = raw_heart.as_matrix()\n",
    "rheart_target = raw_heart[:,13]\n",
    "rheart_desc = raw_heart[:,0:12]\n",
    "x_train, x_test, y_train, y_test = train_test_split(rheart_desc,rheart_target,test_size=.25,random_state=1)"
   ]
  },
  {
   "cell_type": "code",
   "execution_count": 22,
   "metadata": {},
   "outputs": [
    {
     "name": "stdout",
     "output_type": "stream",
     "text": [
      "[[22  8]\n",
      " [ 9 15]]\n"
     ]
    }
   ],
   "source": [
    "#k=1, unweighted, euc (euc because of low dimensional data?)\n",
    "clf_knn_1 = KNeighborsClassifier(1)\n",
    "clf_knn_1.fit(x_train,y_train)\n",
    "pred_knn_1 = clf_knn_1.predict(x_test)\n",
    "cm_knn_1 = confusion_matrix(y_test,pred)\n",
    "print(cm_knn_1)"
   ]
  },
  {
   "cell_type": "code",
   "execution_count": 24,
   "metadata": {
    "scrolled": false
   },
   "outputs": [
    {
     "name": "stdout",
     "output_type": "stream",
     "text": [
      "[[20 10]\n",
      " [10 14]]\n"
     ]
    }
   ],
   "source": [
    "#k=3, unweighted, euc\n",
    "clf_knn_3 = KNeighborsClassifier(3)\n",
    "clf_knn_3.fit(x_train,y_train)\n",
    "pred_knn_3 = clf_knn_3.predict(x_test)\n",
    "cm_knn_3 = confusion_matrix(y_test,pred_knn_3)\n",
    "print(cm_knn_3)"
   ]
  },
  {
   "cell_type": "code",
   "execution_count": 11,
   "metadata": {},
   "outputs": [
    {
     "name": "stdout",
     "output_type": "stream",
     "text": [
      "             precision    recall  f1-score   support\n",
      "\n",
      "        1.0       0.71      0.75      0.73        36\n",
      "        2.0       0.70      0.66      0.68        32\n",
      "\n",
      "avg / total       0.71      0.71      0.71        68\n",
      "\n"
     ]
    }
   ],
   "source": [
    "print classification_report(y_test,pred_knn_3)"
   ]
  },
  {
   "cell_type": "code",
   "execution_count": 25,
   "metadata": {
    "scrolled": true
   },
   "outputs": [
    {
     "name": "stdout",
     "output_type": "stream",
     "text": [
      "[[22  8]\n",
      " [ 9 15]]\n"
     ]
    }
   ],
   "source": [
    "#k=5, unweighted, euc \n",
    "clf_knn_5 = KNeighborsClassifier(5)\n",
    "clf_knn_5.fit(x_train,y_train)\n",
    "pred_knn_5 = clf_knn_5.predict(x_test)\n",
    "cm_knn_5 = confusion_matrix(y_test,pred_knn_5)\n",
    "print(cm_knn_5)"
   ]
  },
  {
   "cell_type": "code",
   "execution_count": 26,
   "metadata": {},
   "outputs": [
    {
     "name": "stdout",
     "output_type": "stream",
     "text": [
      "[[20 10]\n",
      " [11 13]]\n"
     ]
    }
   ],
   "source": [
    "#k=10, unweighted, euc \n",
    "clf_knn_10 = KNeighborsClassifier(10)\n",
    "clf_knn_10.fit(x_train,y_train)\n",
    "pred_knn_10 = clf_knn_10.predict(x_test)\n",
    "cm_knn_10 = confusion_matrix(y_test,pred_knn_10)\n",
    "print(cm_knn_10)"
   ]
  },
  {
   "cell_type": "code",
   "execution_count": 27,
   "metadata": {},
   "outputs": [
    {
     "name": "stdout",
     "output_type": "stream",
     "text": [
      "[[21  9]\n",
      " [ 7 17]]\n"
     ]
    }
   ],
   "source": [
    "#k=5, unweighted, man\n",
    "clf_knn_5_man = KNeighborsClassifier(3,p=1)\n",
    "clf_knn_5_man.fit(x_train,y_train)\n",
    "pred_knn_5_man = clf_knn_5_man.predict(x_test)\n",
    "cm_knn_5_man = confusion_matrix(y_test,pred_knn_5_man)\n",
    "print(cm_knn_5_man)"
   ]
  },
  {
   "cell_type": "code",
   "execution_count": 28,
   "metadata": {
    "scrolled": false
   },
   "outputs": [
    {
     "name": "stdout",
     "output_type": "stream",
     "text": [
      "[[29  1]\n",
      " [20  4]]\n"
     ]
    }
   ],
   "source": [
    "#k=n,weighted, euc\n",
    "clf_knn_un = KNeighborsClassifier(math.trunc(len(raw_heart)*.75),weights = 'distance')\n",
    "clf_knn_un.fit(x_train,y_train)\n",
    "pred_knn_un = clf_knn_un.predict(x_test)\n",
    "cm_knn_un = confusion_matrix(y_test,pred_knn_un)\n",
    "print(cm_knn_un)\n",
    "#over classifying heart diease = 1 with weighted (possibley due to imbalance of data)"
   ]
  },
  {
   "cell_type": "code",
   "execution_count": 33,
   "metadata": {},
   "outputs": [
    {
     "name": "stdout",
     "output_type": "stream",
     "text": [
      "             precision    recall  f1-score   support\n",
      "\n",
      "        1.0       0.71      0.73      0.72        30\n",
      "        2.0       0.65      0.62      0.64        24\n",
      "\n",
      "avg / total       0.68      0.69      0.68        54\n",
      "\n"
     ]
    }
   ],
   "source": [
    "print classification_report(y_test,pred_knn_5)"
   ]
  },
  {
   "cell_type": "code",
   "execution_count": 32,
   "metadata": {
    "scrolled": true
   },
   "outputs": [
    {
     "name": "stdout",
     "output_type": "stream",
     "text": [
      "[Train/test split] score: 0.68519\n"
     ]
    }
   ],
   "source": [
    "print \"[Train/test split] score: {:.5f}\".format(clf_knn_5.score(x_test, y_test))"
   ]
  },
  {
   "cell_type": "code",
   "execution_count": 49,
   "metadata": {},
   "outputs": [
    {
     "data": {
      "text/plain": [
       "array([[24,  6],\n",
       "       [ 4, 20]], dtype=int64)"
      ]
     },
     "execution_count": 49,
     "metadata": {},
     "output_type": "execute_result"
    }
   ],
   "source": [
    "#decision trees\n",
    "clf_dt = DecisionTreeClassifier()\n",
    "fit_dt = clf_dt.fit(x_train, y_train)\n",
    "pred_dt = fit_dt.predict(x_test) \n",
    "confusion_matrix(y_test, pred_dt)"
   ]
  },
  {
   "cell_type": "code",
   "execution_count": 56,
   "metadata": {
    "scrolled": true
   },
   "outputs": [],
   "source": [
    "#tree visualisation\n",
    "with open('heart.dot', 'w') as f:\n",
    "\tf = tree.export_graphviz(fit_dt, out_file=f, feature_names=col_names[0:12], class_names=col_names[13], filled=True, rounded=True, special_characters=True)"
   ]
  },
  {
   "cell_type": "code",
   "execution_count": 13,
   "metadata": {},
   "outputs": [],
   "source": [
    "#cross validation\n",
    "kf = KFold(n_splits=5,random_state=1)\n",
    "for train_index, test_index in kf.split(rheart_desc):\n",
    " \n",
    "    #print(\"TRAIN:\", train_index, \"TEST:\", test_index)\n",
    " \n",
    "    x_train, x_test = rheart_desc[train_index], rheart_desc[test_index]\n",
    " \n",
    "    y_train, y_test = rheart_target[train_index], rheart_target[test_index]\n"
   ]
  },
  {
   "cell_type": "code",
   "execution_count": 34,
   "metadata": {
    "scrolled": false
   },
   "outputs": [
    {
     "name": "stdout",
     "output_type": "stream",
     "text": [
      "[fold 0] score: 0.70370\n",
      "[fold 1] score: 0.66667\n",
      "[fold 2] score: 0.66667\n",
      "[fold 3] score: 0.64815\n",
      "[fold 4] score: 0.68519\n"
     ]
    }
   ],
   "source": [
    "#k nearest neighbours\n",
    "for k, (train_index, test_index) in enumerate(kf.split(rheart_desc)):\n",
    " \n",
    "    x_train, x_test = rheart_desc[train_index], rheart_desc[test_index]\n",
    "    y_train, y_test = rheart_target[train_index], rheart_target[test_index]\n",
    " \n",
    "    clf_knn_5.fit(x_train, y_train)\n",
    "    print \"[fold {0}] score: {1:.5f}\".format(k, clf_knn_5.score(x_test, y_test))\n"
   ]
  },
  {
   "cell_type": "code",
   "execution_count": 41,
   "metadata": {},
   "outputs": [
    {
     "name": "stdout",
     "output_type": "stream",
     "text": [
      "[fold 0] score: 0.66667\n",
      "[fold 1] score: 0.75926\n",
      "[fold 2] score: 0.77778\n",
      "[fold 3] score: 0.66667\n",
      "[fold 4] score: 0.81481\n"
     ]
    }
   ],
   "source": [
    "#decision trees\n",
    "for k, (train_index, test_index) in enumerate(kf.split(rheart_desc)):\n",
    " \n",
    "    x_train, x_test = rheart_desc[train_index], rheart_desc[test_index]\n",
    "    y_train, y_test = rheart_target[train_index], rheart_target[test_index]\n",
    " \n",
    "    clf_dt.fit(x_train, y_train)\n",
    "    print \"[fold {0}] score: {1:.5f}\".format(k, clf_dt.score(x_test, y_test))"
   ]
  }
 ],
 "metadata": {
  "kernelspec": {
   "display_name": "Python 2",
   "language": "python",
   "name": "python2"
  },
  "language_info": {
   "codemirror_mode": {
    "name": "ipython",
    "version": 2
   },
   "file_extension": ".py",
   "mimetype": "text/x-python",
   "name": "python",
   "nbconvert_exporter": "python",
   "pygments_lexer": "ipython2",
   "version": "2.7.14"
  }
 },
 "nbformat": 4,
 "nbformat_minor": 2
}
